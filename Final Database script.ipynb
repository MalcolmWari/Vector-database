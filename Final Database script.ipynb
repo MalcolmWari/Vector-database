{
 "cells": [
  {
   "cell_type": "code",
   "execution_count": null,
   "metadata": {},
   "outputs": [],
   "source": [
    "import torch\n",
    "import torch.nn as nn\n",
    "import torchvision\n",
    "import torchvision.transforms as transforms\n",
    "import torchvision.models as models\n",
    "import torch.optim as optim\n",
    "\n",
    "# Define a transform to normalize the data. The transforms are applied\n",
    "# in the order they are given. First, the image is converted to a tensor,\n",
    "# then it is normalized with mean and standard deviation of 0.5 for all channels.\n",
    "transform = transforms.Compose(\n",
    "    [transforms.ToTensor(),\n",
    "     transforms.Normalize((0.5, 0.5, 0.5), (0.5, 0.5, 0.5))])\n",
    "\n",
    "# Download the CIFAR-10 dataset, apply the transforms, and load it into\n",
    "# a DataLoader for efficient batch processing and shuffling.\n",
    "trainset = torchvision.datasets.CIFAR10(root='./data', train=True,\n",
    "                                        download=True, transform=transform)\n",
    "trainloader = torch.utils.data.DataLoader(trainset, batch_size=4,\n",
    "                                          shuffle=True, num_workers=0)\n",
    "\n",
    "testset = torchvision.datasets.CIFAR10(root='./data', train=False,\n",
    "                                       download=True, transform=transform)\n",
    "testloader = torch.utils.data.DataLoader(testset, batch_size=4,\n",
    "                                         shuffle=False, num_workers=0)\n",
    "\n",
    "# Define the classes in the CIFAR-10 dataset. These correspond to the labels\n",
    "# of the images in the dataset.\n",
    "classes = ('plane', 'car', 'bird', 'cat',\n",
    "           'deer', 'dog', 'frog', 'horse', 'ship', 'truck')\n",
    "\n",
    "# Load the pretrained ResNet-50 model.\n",
    "net = models.resnet50(pretrained=True)\n",
    "\n",
    "# Freeze all the parameters of the model, making them untrainable.\n",
    "# This is done because we want to keep the weights of the pre-trained model\n",
    "# and only train the final layer that we will add next.\n",
    "for param in net.parameters():\n",
    "    param.requires_grad = False\n",
    "\n",
    "# Replace the last fully connected layer of the model with a new one \n",
    "# having the correct number of output features. The new layer's parameters\n",
    "# are not frozen, so they will be learned during training.\n",
    "num_ftrs = net.fc.in_features\n",
    "net.fc = nn.Linear(num_ftrs, 10)\n",
    "\n",
    "# Define a loss function and an optimizer. The loss function is used to measure\n",
    "# how well the model's predictions match the actual labels, and the optimizer\n",
    "# is used to update the model's parameters based on this loss.\n",
    "criterion = nn.CrossEntropyLoss()\n",
    "optimizer = optim.SGD(net.fc.parameters(), lr=0.001, momentum=0.9)\n",
    "\n",
    "# Set device to GPU if available, otherwise use CPU\n",
    "device = torch.device(\"cuda:0\" if torch.cuda.is_available() else \"cpu\")\n",
    "\n",
    "# Move the model to the device (GPU or CPU)\n",
    "net.to(device)\n",
    "\n",
    "# Training loop\n",
    "for epoch in range(5):  # Loop over the dataset multiple times\n",
    "\n",
    "    running_loss = 0.0\n",
    "    for i, data in enumerate(trainloader, 0):\n",
    "        # Get the inputs; data is a list of [inputs, labels]\n",
    "        # Move the inputs and labels to the device\n",
    "        inputs, labels = data[0].to(device), data[1].to(device)\n",
    "\n",
    "        # Zero the parameter gradients\n",
    "        # This is necessary because by default, gradients are accumulated\n",
    "        # in backward passes, so we need to clear them at each step\n",
    "        optimizer.zero_grad()\n",
    "\n",
    "        # Forward pass: compute the outputs by passing inputs to the model\n",
    "        outputs = net(inputs)\n",
    "        # Compute the loss between the outputs and the ground truth labels\n",
    "        loss = criterion(outputs, labels)\n",
    "        # Backward pass: compute the gradients of the loss w.r.t. the model's parameters\n",
    "        loss.backward()\n",
    "        # Perform an optimization step: update the model's parameters\n",
    "        optimizer.step()\n",
    "\n",
    "        # Print statistics\n",
    "        running_loss += loss.item()\n",
    "        # Print every 2000 mini-batches\n",
    "        if i % 2000 == 1999:    \n",
    "            print('[%d, %5d] loss: %.3f' %\n",
    "                  (epoch + 1, i + 1, running_loss / 2000))\n",
    "            running_loss = 0.0\n",
    "\n",
    "print('Finished Training')\n",
    "\n",
    "# After training, we want to test how well the model performs on unseen data\n",
    "# We'll compute the accuracy of the model on the test data\n",
    "\n",
    "correct = 0\n",
    "total = 0\n",
    "# We don't need to compute gradients during testing, so we use torch.no_grad() \n",
    "# to disable gradient computation\n",
    "with torch.no_grad():\n",
    "    for data in testloader:\n",
    "        # Get the inputs; data is a list of [inputs, labels]\n",
    "        # Move the inputs and labels to the device\n",
    "        images, labels = data[0].to(device), data[1].to(device)\n",
    "        # Forward pass: compute the outputs by passing inputs to the model\n",
    "        outputs = net(images)\n",
    "        # Get the predicted class by finding the maximum value \n",
    "        # (since we're using CrossEntropyLoss)\n",
    "        _, predicted = torch.max(outputs.data, 1)\n",
    "        # Update the total number of images\n",
    "        total += labels.size(0)\n",
    "        # Update the number of correctly predicted images\n",
    "        correct += (predicted == labels).sum().item()\n",
    "\n",
    "print('Accuracy of the network on the 10000 test images: %d %%' % (\n",
    "    100 * correct / total))\n",
    "\n",
    "# We will store the vectors in a Python dictionary. \n",
    "# The keys will be the image labels and the values will be the vectors.\n",
    "vectors = {}\n",
    "\n",
    "# We move the model to the CPU for the feature extraction. \n",
    "# This is because we're going to be working with numpy, which can't handle CUDA tensors.\n",
    "net = net.to('cpu')\n",
    "\n",
    "# We don't need to compute gradients during feature extraction, \n",
    "# so we use torch.no_grad() to disable gradient computation.\n",
    "with torch.no_grad():\n",
    "    for data in trainloader:\n",
    "        # Get the inputs; data is a list of [inputs, labels]\n",
    "        images, labels = data\n",
    "        # Forward pass: compute the outputs by passing inputs to the model\n",
    "        outputs = net(images)\n",
    "        # For each image in the batch, we store its vector in the dictionary.\n",
    "        for i in range(len(outputs)):\n",
    "            vectors[labels[i].item()] = outputs[i].numpy()\n"
   ]
  },
  {
   "cell_type": "code",
   "execution_count": 1,
   "metadata": {},
   "outputs": [
    {
     "name": "stderr",
     "output_type": "stream",
     "text": [
      "c:\\Users\\Malco\\mambaforge\\envs\\data\\lib\\site-packages\\torchvision\\models\\_utils.py:208: UserWarning: The parameter 'pretrained' is deprecated since 0.13 and may be removed in the future, please use 'weights' instead.\n",
      "  warnings.warn(\n",
      "c:\\Users\\Malco\\mambaforge\\envs\\data\\lib\\site-packages\\torchvision\\models\\_utils.py:223: UserWarning: Arguments other than a weight enum or `None` for 'weights' are deprecated since 0.13 and may be removed in the future. The current behavior is equivalent to passing `weights=None`.\n",
      "  warnings.warn(msg)\n"
     ]
    },
    {
     "name": "stdout",
     "output_type": "stream",
     "text": [
      "Model loaded successfully!\n"
     ]
    }
   ],
   "source": [
    "import torch\n",
    "import torchvision.models as models\n",
    "import torch.nn as nn\n",
    "\n",
    "# Define the ResNet-50 model architecture\n",
    "net = models.resnet50(pretrained=False)  # Note: pretrained is set to False\n",
    "\n",
    "# Modify the final layer to match CIFAR-10's 10 classes\n",
    "num_ftrs = net.fc.in_features\n",
    "net.fc = nn.Linear(num_ftrs, 10)\n",
    "\n",
    "# Load the saved model weights\n",
    "saved_weights_path = \"C:/Users/Malco/OneDrive/Desktop/Vector Database Project/cifar_net.pth\"\n",
    "net.load_state_dict(torch.load(saved_weights_path))\n",
    "\n",
    "print(\"Model loaded successfully!\")\n"
   ]
  },
  {
   "cell_type": "code",
   "execution_count": 5,
   "metadata": {},
   "outputs": [
    {
     "name": "stdout",
     "output_type": "stream",
     "text": [
      "Files already downloaded and verified\n"
     ]
    },
    {
     "data": {
      "image/png": "[encoded data removed]",
      "text/plain": [
       "<Figure size 640x480 with 1 Axes>"
      ]
     },
     "metadata": {},
     "output_type": "display_data"
    },
    {
     "name": "stdout",
     "output_type": "stream",
     "text": [
      "Label: dog\n"
     ]
    }
   ],
   "source": [
    "import torch\n",
    "import torchvision\n",
    "import torchvision.transforms as transforms\n",
    "import matplotlib.pyplot as plt\n",
    "import numpy as np\n",
    "\n",
    "# Load CIFAR-10 dataset\n",
    "transform = transforms.Compose([transforms.ToTensor()])\n",
    "trainset = torchvision.datasets.CIFAR10(root='./data', train=True, download=True, transform=transform)\n",
    "trainloader = torch.utils.data.DataLoader(trainset, batch_size=1, shuffle=True)\n",
    "\n",
    "# Get a random image\n",
    "dataiter = iter(trainloader)\n",
    "image, label = next(dataiter)\n",
    "\n",
    "# Function to show image\n",
    "def imshow(img):\n",
    "    img = img.numpy().transpose((1, 2, 0))\n",
    "    plt.imshow(img)\n",
    "    plt.show()\n",
    "\n",
    "# Display the image\n",
    "imshow(image[0])\n",
    "\n",
    "print(\"Label:\", trainset.classes[label[0]])\n"
   ]
  },
  {
   "cell_type": "code",
   "execution_count": 7,
   "metadata": {},
   "outputs": [],
   "source": [
    "image_vector = image.view(-1)\n",
    "\n",
    "torch.save(image_vector, 'cifar_vector.pth')\n"
   ]
  },
  {
   "cell_type": "code",
   "execution_count": 13,
   "metadata": {},
   "outputs": [
    {
     "name": "stdout",
     "output_type": "stream",
     "text": [
      "Files already downloaded and verified\n",
      "Running on device: cuda:0\n",
      "Model weights loaded successfully and moved to device!\n",
      "Extracted 5000 feature vectors for class 0.\n",
      "Extracted 5000 feature vectors for class 1.\n",
      "Extracted 5000 feature vectors for class 2.\n",
      "Extracted 5000 feature vectors for class 3.\n",
      "Extracted 5000 feature vectors for class 4.\n",
      "Extracted 5000 feature vectors for class 5.\n",
      "Extracted 5000 feature vectors for class 6.\n",
      "Extracted 5000 feature vectors for class 7.\n",
      "Extracted 5000 feature vectors for class 8.\n",
      "Extracted 5000 feature vectors for class 9.\n",
      "Feature vectors serialized and saved successfully!\n"
     ]
    }
   ],
   "source": [
    "import torch\n",
    "import torchvision\n",
    "import torchvision.transforms as transforms\n",
    "import torchvision.models as models\n",
    "import torch.nn as nn\n",
    "import pickle\n",
    "\n",
    "# 1. Load the CIFAR-10 dataset\n",
    "transform = transforms.Compose(\n",
    "    [transforms.ToTensor(),\n",
    "     transforms.Normalize((0.5, 0.5, 0.5), (0.5, 0.5, 0.5))])\n",
    "\n",
    "trainset = torchvision.datasets.CIFAR10(root='./data', train=True, download=True, transform=transform)\n",
    "trainloader = torch.utils.data.DataLoader(trainset, batch_size=4, shuffle=True, num_workers=0)\n",
    "\n",
    "# Check for GPU availability and set the device accordingly\n",
    "device = torch.device(\"cuda:0\" if torch.cuda.is_available() else \"cpu\")\n",
    "print(f\"Running on device: {device}\")\n",
    "\n",
    "# 2. Set up the ResNet-50 model structure\n",
    "net = models.resnet50(pretrained=False)\n",
    "num_ftrs = net.fc.in_features\n",
    "net.fc = nn.Linear(num_ftrs, 10)\n",
    "\n",
    "# 3. Load the saved model weights and move the model to the device\n",
    "weights_path = \"cifar_net.pth\"\n",
    "net.load_state_dict(torch.load(weights_path))\n",
    "net.to(device)\n",
    "print(\"Model weights loaded successfully and moved to device!\")\n",
    "\n",
    "# 4. Extract feature vectors for all images in the dataset\n",
    "vectors = {label: [] for label in range(10)}\n",
    "\n",
    "with torch.no_grad():\n",
    "    for data in trainloader:\n",
    "        images, labels = data[0].to(device), data[1].to(device)\n",
    "        outputs = net(images)\n",
    "        outputs = outputs.cpu()\n",
    "        for i in range(len(outputs)):\n",
    "            label = labels[i].item()\n",
    "            vectors[label].append(outputs[i].numpy())\n",
    "\n",
    "# Check the number of vectors extracted for each class\n",
    "for label, vecs in vectors.items():\n",
    "    print(f\"Extracted {len(vecs)} feature vectors for class {label}.\")\n",
    "\n",
    "# 5. Serialize and save the 'vectors' dictionary\n",
    "with open(\"vectors.pkl\", \"wb\") as f:\n",
    "    pickle.dump(vectors, f)\n",
    "\n",
    "print(\"Feature vectors serialized and saved successfully!\")\n"
   ]
  },
  {
   "cell_type": "code",
   "execution_count": 15,
   "metadata": {},
   "outputs": [
    {
     "name": "stdout",
     "output_type": "stream",
     "text": [
      "Files already downloaded and verified\n"
     ]
    },
    {
     "name": "stderr",
     "output_type": "stream",
     "text": [
      "c:\\Users\\Malco\\mambaforge\\envs\\data\\lib\\site-packages\\torchvision\\models\\_utils.py:208: UserWarning: The parameter 'pretrained' is deprecated since 0.13 and may be removed in the future, please use 'weights' instead.\n",
      "  warnings.warn(\n",
      "c:\\Users\\Malco\\mambaforge\\envs\\data\\lib\\site-packages\\torchvision\\models\\_utils.py:223: UserWarning: Arguments other than a weight enum or `None` for 'weights' are deprecated since 0.13 and may be removed in the future. The current behavior is equivalent to passing `weights=None`.\n",
      "  warnings.warn(msg)\n"
     ]
    },
    {
     "name": "stdout",
     "output_type": "stream",
     "text": [
      "Feature vectors extracted, serialized, and saved successfully!\n"
     ]
    }
   ],
   "source": [
    "import torch\n",
    "import torchvision\n",
    "import torchvision.transforms as transforms\n",
    "import torchvision.models as models\n",
    "import pickle\n",
    "\n",
    "# 1. Load the CIFAR-10 dataset\n",
    "transform = transforms.Compose(\n",
    "    [transforms.ToTensor(),\n",
    "     transforms.Normalize((0.5, 0.5, 0.5), (0.5, 0.5, 0.5))])\n",
    "\n",
    "trainset = torchvision.datasets.CIFAR10(root='./data', train=True, download=True, transform=transform)\n",
    "trainloader = torch.utils.data.DataLoader(trainset, batch_size=4, shuffle=True, num_workers=0)\n",
    "\n",
    "# Check for GPU availability and set the device accordingly\n",
    "device = torch.device(\"cuda:0\" if torch.cuda.is_available() else \"cpu\")\n",
    "\n",
    "# 2. Set up the ResNet-50 model structure\n",
    "net = models.resnet50(pretrained=False)\n",
    "num_ftrs = net.fc.in_features\n",
    "net.fc = nn.Linear(num_ftrs, 10)\n",
    "\n",
    "# Load the saved model weights and move the model to the device\n",
    "weights_path = \"cifar_net.pth\"\n",
    "net.load_state_dict(torch.load(weights_path))\n",
    "net.to(device)\n",
    "net.eval()  # Set the model to evaluation mode\n",
    "\n",
    "# 3. Extract feature vectors\n",
    "all_vectors = []\n",
    "\n",
    "with torch.no_grad():\n",
    "    for data in trainloader:\n",
    "        images, labels = data[0].to(device), data[1].to(device)\n",
    "        outputs = net(images)\n",
    "        outputs = outputs.cpu()\n",
    "        for i in range(len(outputs)):\n",
    "            # Each entry will be a tuple of (label, feature vector)\n",
    "            all_vectors.append((labels[i].item(), outputs[i].numpy()))\n",
    "\n",
    "# 4. Serialize and save the 'all_vectors' list\n",
    "with open(\"vectors.pkl\", \"wb\") as f:\n",
    "    pickle.dump(all_vectors, f)\n",
    "\n",
    "print(\"Feature vectors extracted, serialized, and saved successfully!\")\n",
    "\n"
   ]
  },
  {
   "cell_type": "code",
   "execution_count": 16,
   "metadata": {},
   "outputs": [
    {
     "name": "stdout",
     "output_type": "stream",
     "text": [
      "Feature vectors serialized and saved to vectors.h5!\n"
     ]
    }
   ],
   "source": [
    "import h5py\n",
    "import numpy as np\n",
    "\n",
    "# Assuming you have 'all_vectors' from the previous extraction step\n",
    "\n",
    "# 1. Organize the data for serialization\n",
    "labels = [vec[0] for vec in all_vectors]\n",
    "vectors = [vec[1] for vec in all_vectors]\n",
    "labels_array = np.array(labels)\n",
    "vectors_array = np.array(vectors)\n",
    "\n",
    "# 2. Serialize the feature vectors using HDF5\n",
    "with h5py.File('vectors.h5', 'w') as hf:\n",
    "    hf.create_dataset(\"labels\", data=labels_array)\n",
    "    hf.create_dataset(\"vectors\", data=vectors_array)\n",
    "\n",
    "print(\"Feature vectors serialized and saved to vectors.h5!\")\n"
   ]
  },
  {
   "cell_type": "code",
   "execution_count": 18,
   "metadata": {},
   "outputs": [
    {
     "ename": "ValueError",
     "evalue": "Incompatible dimension for X and Y matrices: X.shape[1] == 3072 while Y.shape[1] == 10",
     "output_type": "error",
     "traceback": [
      "\u001b[1;31m---------------------------------------------------------------------------\u001b[0m",
      "\u001b[1;31mValueError\u001b[0m                                Traceback (most recent call last)",
      "\u001b[1;32mc:\\Users\\Malco\\OneDrive\\Desktop\\Vector Database Project\\Final Database script.ipynb Cell 8\u001b[0m line \u001b[0;36m1\n\u001b[0;32m     <a href='vscode-notebook-cell:/c%3A/Users/Malco/OneDrive/Desktop/Vector%20Database%20Project/Final%20Database%20script.ipynb#X11sZmlsZQ%3D%3D?line=13'>14</a>\u001b[0m image_vector_np \u001b[39m=\u001b[39m image_vector\u001b[39m.\u001b[39mnumpy()\u001b[39m.\u001b[39mreshape(\u001b[39m1\u001b[39m, \u001b[39m-\u001b[39m\u001b[39m1\u001b[39m)\n\u001b[0;32m     <a href='vscode-notebook-cell:/c%3A/Users/Malco/OneDrive/Desktop/Vector%20Database%20Project/Final%20Database%20script.ipynb#X11sZmlsZQ%3D%3D?line=15'>16</a>\u001b[0m \u001b[39m# 2. Compute the Cosine Similarities\u001b[39;00m\n\u001b[1;32m---> <a href='vscode-notebook-cell:/c%3A/Users/Malco/OneDrive/Desktop/Vector%20Database%20Project/Final%20Database%20script.ipynb#X11sZmlsZQ%3D%3D?line=16'>17</a>\u001b[0m similarities \u001b[39m=\u001b[39m cosine_similarity(image_vector_np, vectors_h5)\n\u001b[0;32m     <a href='vscode-notebook-cell:/c%3A/Users/Malco/OneDrive/Desktop/Vector%20Database%20Project/Final%20Database%20script.ipynb#X11sZmlsZQ%3D%3D?line=18'>19</a>\u001b[0m \u001b[39m# 3. Determine the Most Similar Image\u001b[39;00m\n\u001b[0;32m     <a href='vscode-notebook-cell:/c%3A/Users/Malco/OneDrive/Desktop/Vector%20Database%20Project/Final%20Database%20script.ipynb#X11sZmlsZQ%3D%3D?line=19'>20</a>\u001b[0m most_similar_index \u001b[39m=\u001b[39m np\u001b[39m.\u001b[39margmax(similarities)\n",
      "File \u001b[1;32mc:\\Users\\Malco\\mambaforge\\envs\\data\\lib\\site-packages\\sklearn\\utils\\_param_validation.py:211\u001b[0m, in \u001b[0;36mvalidate_params.<locals>.decorator.<locals>.wrapper\u001b[1;34m(*args, **kwargs)\u001b[0m\n\u001b[0;32m    205\u001b[0m \u001b[39mtry\u001b[39;00m:\n\u001b[0;32m    206\u001b[0m     \u001b[39mwith\u001b[39;00m config_context(\n\u001b[0;32m    207\u001b[0m         skip_parameter_validation\u001b[39m=\u001b[39m(\n\u001b[0;32m    208\u001b[0m             prefer_skip_nested_validation \u001b[39mor\u001b[39;00m global_skip_validation\n\u001b[0;32m    209\u001b[0m         )\n\u001b[0;32m    210\u001b[0m     ):\n\u001b[1;32m--> 211\u001b[0m         \u001b[39mreturn\u001b[39;00m func(\u001b[39m*\u001b[39margs, \u001b[39m*\u001b[39m\u001b[39m*\u001b[39mkwargs)\n\u001b[0;32m    212\u001b[0m \u001b[39mexcept\u001b[39;00m InvalidParameterError \u001b[39mas\u001b[39;00m e:\n\u001b[0;32m    213\u001b[0m     \u001b[39m# When the function is just a wrapper around an estimator, we allow\u001b[39;00m\n\u001b[0;32m    214\u001b[0m     \u001b[39m# the function to delegate validation to the estimator, but we replace\u001b[39;00m\n\u001b[0;32m    215\u001b[0m     \u001b[39m# the name of the estimator by the name of the function in the error\u001b[39;00m\n\u001b[0;32m    216\u001b[0m     \u001b[39m# message to avoid confusion.\u001b[39;00m\n\u001b[0;32m    217\u001b[0m     msg \u001b[39m=\u001b[39m re\u001b[39m.\u001b[39msub(\n\u001b[0;32m    218\u001b[0m         \u001b[39mr\u001b[39m\u001b[39m\"\u001b[39m\u001b[39mparameter of \u001b[39m\u001b[39m\\\u001b[39m\u001b[39mw+ must be\u001b[39m\u001b[39m\"\u001b[39m,\n\u001b[0;32m    219\u001b[0m         \u001b[39mf\u001b[39m\u001b[39m\"\u001b[39m\u001b[39mparameter of \u001b[39m\u001b[39m{\u001b[39;00mfunc\u001b[39m.\u001b[39m\u001b[39m__qualname__\u001b[39m\u001b[39m}\u001b[39;00m\u001b[39m must be\u001b[39m\u001b[39m\"\u001b[39m,\n\u001b[0;32m    220\u001b[0m         \u001b[39mstr\u001b[39m(e),\n\u001b[0;32m    221\u001b[0m     )\n",
      "File \u001b[1;32mc:\\Users\\Malco\\mambaforge\\envs\\data\\lib\\site-packages\\sklearn\\metrics\\pairwise.py:1577\u001b[0m, in \u001b[0;36mcosine_similarity\u001b[1;34m(X, Y, dense_output)\u001b[0m\n\u001b[0;32m   1542\u001b[0m \u001b[39m\u001b[39m\u001b[39m\"\"\"Compute cosine similarity between samples in X and Y.\u001b[39;00m\n\u001b[0;32m   1543\u001b[0m \n\u001b[0;32m   1544\u001b[0m \u001b[39mCosine similarity, or the cosine kernel, computes similarity as the\u001b[39;00m\n\u001b[1;32m   (...)\u001b[0m\n\u001b[0;32m   1573\u001b[0m \u001b[39m    Returns the cosine similarity between samples in X and Y.\u001b[39;00m\n\u001b[0;32m   1574\u001b[0m \u001b[39m\"\"\"\u001b[39;00m\n\u001b[0;32m   1575\u001b[0m \u001b[39m# to avoid recursive import\u001b[39;00m\n\u001b[1;32m-> 1577\u001b[0m X, Y \u001b[39m=\u001b[39m check_pairwise_arrays(X, Y)\n\u001b[0;32m   1579\u001b[0m X_normalized \u001b[39m=\u001b[39m normalize(X, copy\u001b[39m=\u001b[39m\u001b[39mTrue\u001b[39;00m)\n\u001b[0;32m   1580\u001b[0m \u001b[39mif\u001b[39;00m X \u001b[39mis\u001b[39;00m Y:\n",
      "File \u001b[1;32mc:\\Users\\Malco\\mambaforge\\envs\\data\\lib\\site-packages\\sklearn\\metrics\\pairwise.py:190\u001b[0m, in \u001b[0;36mcheck_pairwise_arrays\u001b[1;34m(X, Y, precomputed, dtype, accept_sparse, force_all_finite, copy)\u001b[0m\n\u001b[0;32m    184\u001b[0m         \u001b[39mraise\u001b[39;00m \u001b[39mValueError\u001b[39;00m(\n\u001b[0;32m    185\u001b[0m             \u001b[39m\"\u001b[39m\u001b[39mPrecomputed metric requires shape \u001b[39m\u001b[39m\"\u001b[39m\n\u001b[0;32m    186\u001b[0m             \u001b[39m\"\u001b[39m\u001b[39m(n_queries, n_indexed). Got (\u001b[39m\u001b[39m%d\u001b[39;00m\u001b[39m, \u001b[39m\u001b[39m%d\u001b[39;00m\u001b[39m) \u001b[39m\u001b[39m\"\u001b[39m\n\u001b[0;32m    187\u001b[0m             \u001b[39m\"\u001b[39m\u001b[39mfor \u001b[39m\u001b[39m%d\u001b[39;00m\u001b[39m indexed.\u001b[39m\u001b[39m\"\u001b[39m \u001b[39m%\u001b[39m (X\u001b[39m.\u001b[39mshape[\u001b[39m0\u001b[39m], X\u001b[39m.\u001b[39mshape[\u001b[39m1\u001b[39m], Y\u001b[39m.\u001b[39mshape[\u001b[39m0\u001b[39m])\n\u001b[0;32m    188\u001b[0m         )\n\u001b[0;32m    189\u001b[0m \u001b[39melif\u001b[39;00m X\u001b[39m.\u001b[39mshape[\u001b[39m1\u001b[39m] \u001b[39m!=\u001b[39m Y\u001b[39m.\u001b[39mshape[\u001b[39m1\u001b[39m]:\n\u001b[1;32m--> 190\u001b[0m     \u001b[39mraise\u001b[39;00m \u001b[39mValueError\u001b[39;00m(\n\u001b[0;32m    191\u001b[0m         \u001b[39m\"\u001b[39m\u001b[39mIncompatible dimension for X and Y matrices: \u001b[39m\u001b[39m\"\u001b[39m\n\u001b[0;32m    192\u001b[0m         \u001b[39m\"\u001b[39m\u001b[39mX.shape[1] == \u001b[39m\u001b[39m%d\u001b[39;00m\u001b[39m while Y.shape[1] == \u001b[39m\u001b[39m%d\u001b[39;00m\u001b[39m\"\u001b[39m \u001b[39m%\u001b[39m (X\u001b[39m.\u001b[39mshape[\u001b[39m1\u001b[39m], Y\u001b[39m.\u001b[39mshape[\u001b[39m1\u001b[39m])\n\u001b[0;32m    193\u001b[0m     )\n\u001b[0;32m    195\u001b[0m \u001b[39mreturn\u001b[39;00m X, Y\n",
      "\u001b[1;31mValueError\u001b[0m: Incompatible dimension for X and Y matrices: X.shape[1] == 3072 while Y.shape[1] == 10"
     ]
    }
   ],
   "source": [
    "import h5py\n",
    "import numpy as np\n",
    "from sklearn.metrics.pairwise import cosine_similarity\n",
    "\n",
    "# 1. Load the Data\n",
    "with h5py.File('vectors.h5', 'r') as hf:\n",
    "    labels_h5 = np.array(hf[\"labels\"])\n",
    "    vectors_h5 = np.array(hf[\"vectors\"])\n",
    "\n",
    "# Load the CIFAR-10 image vector\n",
    "# Replace 'your_path' with the path to your saved CIFAR-10 image vector\n",
    "with open(\"C:/Users/Malco/OneDrive/Desktop/Vector Database Project/cifar_vector.pth\", 'rb') as f:\n",
    "    image_vector = torch.load(f)\n",
    "image_vector_np = image_vector.numpy().reshape(1, -1)\n",
    "\n",
    "# 2. Compute the Cosine Similarities\n",
    "similarities = cosine_similarity(image_vector_np, vectors_h5)\n",
    "\n",
    "# 3. Determine the Most Similar Image\n",
    "most_similar_index = np.argmax(similarities)\n",
    "most_similar_label = labels_h5[most_similar_index]\n",
    "most_similar_value = similarities[0][most_similar_index]\n",
    "\n",
    "print(f\"Most similar label: {most_similar_label}, Similarity value: {most_similar_value}\")\n"
   ]
  }
 ],
 "metadata": {
  "kernelspec": {
   "display_name": "Python 3",
   "language": "python",
   "name": "python3"
  },
  "language_info": {
   "codemirror_mode": {
    "name": "ipython",
    "version": 3
   },
   "file_extension": ".py",
   "mimetype": "text/x-python",
   "name": "python",
   "nbconvert_exporter": "python",
   "pygments_lexer": "ipython3",
   "version": "3.10.12"
  },
  "orig_nbformat": 4
 },
 "nbformat": 4,
 "nbformat_minor": 2
}
