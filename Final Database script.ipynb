{
 "cells": [
  {
   "cell_type": "code",
   "execution_count": null,
   "metadata": {},
   "outputs": [],
   "source": [
    "import torch\n",
    "import torch.nn as nn\n",
    "import torchvision\n",
    "import torchvision.transforms as transforms\n",
    "import torchvision.models as models\n",
    "import torch.optim as optim\n",
    "\n",
    "# Define a transform to normalize the data. The transforms are applied\n",
    "# in the order they are given. First, the image is converted to a tensor,\n",
    "# then it is normalized with mean and standard deviation of 0.5 for all channels.\n",
    "transform = transforms.Compose(\n",
    "    [transforms.ToTensor(),\n",
    "     transforms.Normalize((0.5, 0.5, 0.5), (0.5, 0.5, 0.5))])\n",
    "\n",
    "# Download the CIFAR-10 dataset, apply the transforms, and load it into\n",
    "# a DataLoader for efficient batch processing and shuffling.\n",
    "trainset = torchvision.datasets.CIFAR10(root='./data', train=True,\n",
    "                                        download=True, transform=transform)\n",
    "trainloader = torch.utils.data.DataLoader(trainset, batch_size=4,\n",
    "                                          shuffle=True, num_workers=0)\n",
    "\n",
    "testset = torchvision.datasets.CIFAR10(root='./data', train=False,\n",
    "                                       download=True, transform=transform)\n",
    "testloader = torch.utils.data.DataLoader(testset, batch_size=4,\n",
    "                                         shuffle=False, num_workers=0)\n",
    "\n",
    "# Define the classes in the CIFAR-10 dataset. These correspond to the labels\n",
    "# of the images in the dataset.\n",
    "classes = ('plane', 'car', 'bird', 'cat',\n",
    "           'deer', 'dog', 'frog', 'horse', 'ship', 'truck')\n",
    "\n",
    "# Load the pretrained ResNet-50 model.\n",
    "net = models.resnet50(pretrained=True)\n",
    "\n",
    "# Freeze all the parameters of the model, making them untrainable.\n",
    "# This is done because we want to keep the weights of the pre-trained model\n",
    "# and only train the final layer that we will add next.\n",
    "for param in net.parameters():\n",
    "    param.requires_grad = False\n",
    "\n",
    "# Replace the last fully connected layer of the model with a new one \n",
    "# having the correct number of output features. The new layer's parameters\n",
    "# are not frozen, so they will be learned during training.\n",
    "num_ftrs = net.fc.in_features\n",
    "net.fc = nn.Linear(num_ftrs, 10)\n",
    "\n",
    "# Define a loss function and an optimizer. The loss function is used to measure\n",
    "# how well the model's predictions match the actual labels, and the optimizer\n",
    "# is used to update the model's parameters based on this loss.\n",
    "criterion = nn.CrossEntropyLoss()\n",
    "optimizer = optim.SGD(net.fc.parameters(), lr=0.001, momentum=0.9)\n",
    "\n",
    "# Set device to GPU if available, otherwise use CPU\n",
    "device = torch.device(\"cuda:0\" if torch.cuda.is_available() else \"cpu\")\n",
    "\n",
    "# Move the model to the device (GPU or CPU)\n",
    "net.to(device)\n",
    "\n",
    "# Training loop\n",
    "for epoch in range(5):  # Loop over the dataset multiple times\n",
    "\n",
    "    running_loss = 0.0\n",
    "    for i, data in enumerate(trainloader, 0):\n",
    "        # Get the inputs; data is a list of [inputs, labels]\n",
    "        # Move the inputs and labels to the device\n",
    "        inputs, labels = data[0].to(device), data[1].to(device)\n",
    "\n",
    "        # Zero the parameter gradients\n",
    "        # This is necessary because by default, gradients are accumulated\n",
    "        # in backward passes, so we need to clear them at each step\n",
    "        optimizer.zero_grad()\n",
    "\n",
    "        # Forward pass: compute the outputs by passing inputs to the model\n",
    "        outputs = net(inputs)\n",
    "        # Compute the loss between the outputs and the ground truth labels\n",
    "        loss = criterion(outputs, labels)\n",
    "        # Backward pass: compute the gradients of the loss w.r.t. the model's parameters\n",
    "        loss.backward()\n",
    "        # Perform an optimization step: update the model's parameters\n",
    "        optimizer.step()\n",
    "\n",
    "        # Print statistics\n",
    "        running_loss += loss.item()\n",
    "        # Print every 2000 mini-batches\n",
    "        if i % 2000 == 1999:    \n",
    "            print('[%d, %5d] loss: %.3f' %\n",
    "                  (epoch + 1, i + 1, running_loss / 2000))\n",
    "            running_loss = 0.0\n",
    "\n",
    "print('Finished Training')\n",
    "\n",
    "# After training, we want to test how well the model performs on unseen data\n",
    "# We'll compute the accuracy of the model on the test data\n",
    "\n",
    "correct = 0\n",
    "total = 0\n",
    "# We don't need to compute gradients during testing, so we use torch.no_grad() \n",
    "# to disable gradient computation\n",
    "with torch.no_grad():\n",
    "    for data in testloader:\n",
    "        # Get the inputs; data is a list of [inputs, labels]\n",
    "        # Move the inputs and labels to the device\n",
    "        images, labels = data[0].to(device), data[1].to(device)\n",
    "        # Forward pass: compute the outputs by passing inputs to the model\n",
    "        outputs = net(images)\n",
    "        # Get the predicted class by finding the maximum value \n",
    "        # (since we're using CrossEntropyLoss)\n",
    "        _, predicted = torch.max(outputs.data, 1)\n",
    "        # Update the total number of images\n",
    "        total += labels.size(0)\n",
    "        # Update the number of correctly predicted images\n",
    "        correct += (predicted == labels).sum().item()\n",
    "\n",
    "print('Accuracy of the network on the 10000 test images: %d %%' % (\n",
    "    100 * correct / total))\n",
    "\n",
    "# We will store the vectors in a Python dictionary. \n",
    "# The keys will be the image labels and the values will be the vectors.\n",
    "vectors = {}\n",
    "\n",
    "# We move the model to the CPU for the feature extraction. \n",
    "# This is because we're going to be working with numpy, which can't handle CUDA tensors.\n",
    "net = net.to('cpu')\n",
    "\n",
    "# We don't need to compute gradients during feature extraction, \n",
    "# so we use torch.no_grad() to disable gradient computation.\n",
    "with torch.no_grad():\n",
    "    for data in trainloader:\n",
    "        # Get the inputs; data is a list of [inputs, labels]\n",
    "        images, labels = data\n",
    "        # Forward pass: compute the outputs by passing inputs to the model\n",
    "        outputs = net(images)\n",
    "        # For each image in the batch, we store its vector in the dictionary.\n",
    "        for i in range(len(outputs)):\n",
    "            vectors[labels[i].item()] = outputs[i].numpy()\n"
   ]
  },
  {
   "cell_type": "code",
   "execution_count": 1,
   "metadata": {},
   "outputs": [
    {
     "name": "stderr",
     "output_type": "stream",
     "text": [
      "c:\\Users\\Malco\\mambaforge\\envs\\data\\lib\\site-packages\\torchvision\\models\\_utils.py:208: UserWarning: The parameter 'pretrained' is deprecated since 0.13 and may be removed in the future, please use 'weights' instead.\n",
      "  warnings.warn(\n",
      "c:\\Users\\Malco\\mambaforge\\envs\\data\\lib\\site-packages\\torchvision\\models\\_utils.py:223: UserWarning: Arguments other than a weight enum or `None` for 'weights' are deprecated since 0.13 and may be removed in the future. The current behavior is equivalent to passing `weights=None`.\n",
      "  warnings.warn(msg)\n"
     ]
    },
    {
     "name": "stdout",
     "output_type": "stream",
     "text": [
      "Model loaded successfully!\n"
     ]
    }
   ],
   "source": [
    "import torch\n",
    "import torchvision.models as models\n",
    "import torch.nn as nn\n",
    "\n",
    "# Define the ResNet-50 model architecture\n",
    "net = models.resnet50(pretrained=False)  # Note: pretrained is set to False\n",
    "\n",
    "# Modify the final layer to match CIFAR-10's 10 classes\n",
    "num_ftrs = net.fc.in_features\n",
    "net.fc = nn.Linear(num_ftrs, 10)\n",
    "\n",
    "# Load the saved model weights\n",
    "saved_weights_path = \"C:/Users/Malco/OneDrive/Desktop/Vector Database Project/cifar_net.pth\"\n",
    "net.load_state_dict(torch.load(saved_weights_path))\n",
    "\n",
    "print(\"Model loaded successfully!\")\n"
   ]
  },
  {
   "cell_type": "code",
   "execution_count": 5,
   "metadata": {},
   "outputs": [
    {
     "name": "stdout",
     "output_type": "stream",
     "text": [
      "Files already downloaded and verified\n"
     ]
    },
    {
     "data": {
      "image/png": "[encoded data removed]",
      "text/plain": [
       "<Figure size 640x480 with 1 Axes>"
      ]
     },
     "metadata": {},
     "output_type": "display_data"
    },
    {
     "name": "stdout",
     "output_type": "stream",
     "text": [
      "Label: dog\n"
     ]
    }
   ],
   "source": [
    "import torch\n",
    "import torchvision\n",
    "import torchvision.transforms as transforms\n",
    "import matplotlib.pyplot as plt\n",
    "import numpy as np\n",
    "\n",
    "# Load CIFAR-10 dataset\n",
    "transform = transforms.Compose([transforms.ToTensor()])\n",
    "trainset = torchvision.datasets.CIFAR10(root='./data', train=True, download=True, transform=transform)\n",
    "trainloader = torch.utils.data.DataLoader(trainset, batch_size=1, shuffle=True)\n",
    "\n",
    "# Get a random image\n",
    "dataiter = iter(trainloader)\n",
    "image, label = next(dataiter)\n",
    "\n",
    "# Function to show image\n",
    "def imshow(img):\n",
    "    img = img.numpy().transpose((1, 2, 0))\n",
    "    plt.imshow(img)\n",
    "    plt.show()\n",
    "\n",
    "# Display the image\n",
    "imshow(image[0])\n",
    "\n",
    "print(\"Label:\", trainset.classes[label[0]])\n"
   ]
  },
  {
   "cell_type": "code",
   "execution_count": 7,
   "metadata": {},
   "outputs": [],
   "source": [
    "image_vector = image.view(-1)\n",
    "\n",
    "torch.save(image_vector, 'cifar_vector.pth')\n"
   ]
  },
  {
   "cell_type": "code",
   "execution_count": 3,
   "metadata": {},
   "outputs": [
    {
     "name": "stdout",
     "output_type": "stream",
     "text": [
      "Files already downloaded and verified\n",
      "Running on device: cuda:0\n",
      "Model weights loaded successfully and moved to device!\n",
      "Extracted 5000 feature vectors for class 0.\n",
      "Extracted 5000 feature vectors for class 1.\n",
      "Extracted 5000 feature vectors for class 2.\n",
      "Extracted 5000 feature vectors for class 3.\n",
      "Extracted 5000 feature vectors for class 4.\n",
      "Extracted 5000 feature vectors for class 5.\n",
      "Extracted 5000 feature vectors for class 6.\n",
      "Extracted 5000 feature vectors for class 7.\n",
      "Extracted 5000 feature vectors for class 8.\n",
      "Extracted 5000 feature vectors for class 9.\n",
      "Feature vectors serialized and saved successfully!\n"
     ]
    }
   ],
   "source": [
    "import torch\n",
    "import torchvision\n",
    "import torchvision.transforms as transforms\n",
    "import torchvision.models as models\n",
    "import torch.nn as nn\n",
    "import pickle\n",
    "\n",
    "# 1. Load the CIFAR-10 dataset\n",
    "transform = transforms.Compose(\n",
    "    [transforms.ToTensor(),\n",
    "     transforms.Normalize((0.5, 0.5, 0.5), (0.5, 0.5, 0.5))])\n",
    "\n",
    "trainset = torchvision.datasets.CIFAR10(root='./data', train=True, download=True, transform=transform)\n",
    "trainloader = torch.utils.data.DataLoader(trainset, batch_size=4, shuffle=True, num_workers=0)\n",
    "\n",
    "# Check for GPU availability and set the device accordingly\n",
    "device = torch.device(\"cuda:0\" if torch.cuda.is_available() else \"cpu\")\n",
    "print(f\"Running on device: {device}\")\n",
    "\n",
    "# 2. Set up the ResNet-50 model structure\n",
    "net = models.resnet50(pretrained=False)\n",
    "num_ftrs = net.fc.in_features\n",
    "net.fc = nn.Linear(num_ftrs, 10)\n",
    "\n",
    "# 3. Load the saved model weights and move the model to the device\n",
    "weights_path = \"cifar_net.pth\"\n",
    "net.load_state_dict(torch.load(weights_path))\n",
    "net.to(device)\n",
    "print(\"Model weights loaded successfully and moved to device!\")\n",
    "\n",
    "# 4. Extract feature vectors for all images in the dataset\n",
    "vectors = {label: [] for label in range(10)}\n",
    "\n",
    "with torch.no_grad():\n",
    "    for data in trainloader:\n",
    "        images, labels = data[0].to(device), data[1].to(device)\n",
    "        outputs = net(images)\n",
    "        outputs = outputs.cpu()\n",
    "        for i in range(len(outputs)):\n",
    "            label = labels[i].item()\n",
    "            vectors[label].append(outputs[i].numpy())\n",
    "\n",
    "# Check the number of vectors extracted for each class\n",
    "for label, vecs in vectors.items():\n",
    "    print(f\"Extracted {len(vecs)} feature vectors for class {label}.\")\n",
    "\n",
    "# 5. Serialize and save the 'vectors' dictionary\n",
    "with open(\"vectors.pkl\", \"wb\") as f:\n",
    "    pickle.dump(vectors, f)\n",
    "\n",
    "print(\"Feature vectors serialized and saved successfully!\")\n"
   ]
  },
  {
   "cell_type": "code",
   "execution_count": 16,
   "metadata": {},
   "outputs": [
    {
     "name": "stdout",
     "output_type": "stream",
     "text": [
      "Feature vectors serialized and saved to vectors.h5!\n"
     ]
    }
   ],
   "source": [
    "import h5py\n",
    "import numpy as np\n",
    "\n",
    "# Assuming you have 'all_vectors' from the previous extraction step\n",
    "\n",
    "# 1. Organize the data for serialization\n",
    "labels = [vec[0] for vec in all_vectors]\n",
    "vectors = [vec[1] for vec in all_vectors]\n",
    "labels_array = np.array(labels)\n",
    "vectors_array = np.array(vectors)\n",
    "\n",
    "# 2. Serialize the feature vectors using HDF5\n",
    "with h5py.File('vectors.h5', 'w') as hf:\n",
    "    hf.create_dataset(\"labels\", data=labels_array)\n",
    "    hf.create_dataset(\"vectors\", data=vectors_array)\n",
    "\n",
    "print(\"Feature vectors serialized and saved to vectors.h5!\")\n"
   ]
  },
  {
   "cell_type": "code",
   "execution_count": 6,
   "metadata": {},
   "outputs": [
    {
     "name": "stdout",
     "output_type": "stream",
     "text": [
      "Files already downloaded and verified\n",
      "[[-3.7416759   1.5174972   0.4495462   0.9992044   0.5351528  -1.2945983\n",
      "   2.1852105   4.914448   -0.97608423  0.26909238]]\n"
     ]
    }
   ],
   "source": [
    "import torch\n",
    "import torchvision.transforms as transforms\n",
    "import torchvision.models as models\n",
    "\n",
    "# 1. Load a random CIFAR-10 image\n",
    "transform = transforms.Compose(\n",
    "    [transforms.ToTensor(),\n",
    "     transforms.Normalize((0.5, 0.5, 0.5), (0.5, 0.5, 0.5))])\n",
    "\n",
    "trainset = torchvision.datasets.CIFAR10(root='./data', train=True, download=True, transform=transform)\n",
    "trainloader = torch.utils.data.DataLoader(trainset, batch_size=1, shuffle=True)  # Ensure batch size is 1\n",
    "dataiter = iter(trainloader)\n",
    "single_image, single_label = next(dataiter)\n",
    "\n",
    "\n",
    "# Check for GPU availability and set the device accordingly\n",
    "device = torch.device(\"cuda:0\" if torch.cuda.is_available() else \"cpu\")\n",
    "\n",
    "# 2. Set up the ResNet-50 model structure and load weights\n",
    "net_single = models.resnet50(pretrained=False)\n",
    "num_ftrs_single = net_single.fc.in_features\n",
    "net_single.fc = nn.Linear(num_ftrs_single, 10)\n",
    "weights_path = \"cifar_net.pth\"  # Assuming the path to your model weights\n",
    "net_single.load_state_dict(torch.load(weights_path))\n",
    "net_single.to(device)\n",
    "net_single.eval()\n",
    "\n",
    "# Extract the feature vector for the single image\n",
    "with torch.no_grad():\n",
    "    single_image = single_image.to(device)\n",
    "    single_output = net_single(single_image)\n",
    "    single_vector = single_output.cpu().numpy()\n",
    "\n",
    "print(single_vector)  # This is the extracted feature vector for your single CIFAR-10 image\n"
   ]
  },
  {
   "cell_type": "code",
   "execution_count": 7,
   "metadata": {},
   "outputs": [
    {
     "name": "stdout",
     "output_type": "stream",
     "text": [
      "7 0.9999587\n"
     ]
    }
   ],
   "source": [
    "from sklearn.metrics.pairwise import cosine_similarity\n",
    "import h5py\n",
    "import numpy as np\n",
    "\n",
    "# 1. Load the feature vectors from 'vectors.h5'\n",
    "with h5py.File('vectors.h5', 'r') as hf:\n",
    "    labels_h5 = hf['labels'][:]\n",
    "    vectors_h5 = hf['vectors'][:]\n",
    "\n",
    "# 2. Compute the cosine similarity for the single_vector against each feature vector in 'vectors.h5'\n",
    "similarities_h5 = cosine_similarity(single_vector, vectors_h5)\n",
    "\n",
    "# 3. Determine the Most Similar Image\n",
    "most_similar_index_h5 = np.argmax(similarities_h5)\n",
    "most_similar_label_h5 = labels_h5[most_similar_index_h5]\n",
    "most_similar_value_h5 = similarities_h5[0][most_similar_index_h5]\n",
    "\n",
    "print(most_similar_label_h5, most_similar_value_h5)\n"
   ]
  }
 ],
 "metadata": {
  "kernelspec": {
   "display_name": "Python 3",
   "language": "python",
   "name": "python3"
  },
  "language_info": {
   "codemirror_mode": {
    "name": "ipython",
    "version": 3
   },
   "file_extension": ".py",
   "mimetype": "text/x-python",
   "name": "python",
   "nbconvert_exporter": "python",
   "pygments_lexer": "ipython3",
   "version": "3.10.12"
  },
  "orig_nbformat": 4
 },
 "nbformat": 4,
 "nbformat_minor": 2
}
